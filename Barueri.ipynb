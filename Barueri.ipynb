{
 "cells": [
  {
   "cell_type": "markdown",
   "metadata": {},
   "source": [
    "# Coleta de Dados e adicionar no MySQL\n",
    "Os arquivos estão disponiveis para downloads no site da receita federal, mas não possuem delimitadores internos, existe um arquivo com o layout para auxiliar.\n",
    "Outro trabalho será baixar os 20 arquivos fazer a leitura individual, linha por linha, separando informações que são de nosso interesse ."
   ]
  },
  {
   "cell_type": "markdown",
   "metadata": {},
   "source": [
    "### layout da tabela receita no mySQL\n"
   ]
  },
  {
   "cell_type": "markdown",
   "metadata": {},
   "source": [
    "## Conectar ao MySQL "
   ]
  },
  {
   "cell_type": "code",
   "execution_count": 1,
   "metadata": {},
   "outputs": [],
   "source": [
    "#Importando conector MySQL\n",
    "\n",
    "import mysql.connector"
   ]
  },
  {
   "cell_type": "markdown",
   "metadata": {},
   "source": []
  },
  {
   "cell_type": "code",
   "execution_count": 2,
   "metadata": {},
   "outputs": [
    {
     "name": "stdout",
     "output_type": "stream",
     "text": [
      "<mysql.connector.connection_cext.CMySQLConnection object at 0x0000027ED7C8F250>\n"
     ]
    }
   ],
   "source": [
    "#Login ao banco de dados\n",
    "\n",
    "mydb = mysql.connector.connect(\n",
    "    host='localhost',\n",
    "    user='root',\n",
    "    password='igti',\n",
    "    database='db_barueri'\n",
    ")\n",
    "\n",
    "print(mydb)\n",
    "\n",
    "mycursor = mydb.cursor()"
   ]
  },
  {
   "cell_type": "markdown",
   "metadata": {},
   "source": [
    "# "
   ]
  },
  {
   "cell_type": "code",
   "execution_count": 3,
   "metadata": {},
   "outputs": [
    {
     "name": "stdout",
     "output_type": "stream",
     "text": [
      "('tb_barueri',)\n"
     ]
    }
   ],
   "source": [
    "#Retorna todas as tabelas criados no seu esquema de Banco de Dados \n",
    "\n",
    "mycursor.execute(\"SHOW TABLES\")\n",
    "\n",
    "for db in mycursor:\n",
    "    print(db)"
   ]
  },
  {
   "cell_type": "markdown",
   "metadata": {},
   "source": []
  },
  {
   "cell_type": "code",
   "execution_count": 10,
   "metadata": {},
   "outputs": [
    {
     "name": "stdout",
     "output_type": "stream",
     "text": [
      "('E:/data/DADOS_ABERTOS/receita/K3241.K03200DV.D00904.L00012', 'E:/data/DADOS_ABERTOS/receita/K3241.K03200DV.D00904.L00013', 'E:/data/DADOS_ABERTOS/receita/K3241.K03200DV.D00904.L00014', 'E:/data/DADOS_ABERTOS/receita/K3241.K03200DV.D00904.L00015', 'E:/data/DADOS_ABERTOS/receita/K3241.K03200DV.D00904.L00016', 'E:/data/DADOS_ABERTOS/receita/K3241.K03200DV.D00904.L00017', 'E:/data/DADOS_ABERTOS/receita/K3241.K03200DV.D00904.L00018', 'E:/data/DADOS_ABERTOS/receita/K3241.K03200DV.D00904.L00019', 'E:/data/DADOS_ABERTOS/receita/K3241.K03200DV.D00904.L00020')\n"
     ]
    }
   ],
   "source": [
    "import os\n",
    "\n",
    "from tkinter  import filedialog\n",
    "\n",
    "filenames = filedialog.askopenfilenames()\n",
    "print(filenames)"
   ]
  },
  {
   "cell_type": "code",
   "execution_count": 11,
   "metadata": {
    "scrolled": false
   },
   "outputs": [
    {
     "name": "stdout",
     "output_type": "stream",
     "text": [
      "E:/data/DADOS_ABERTOS/receita/K3241.K03200DV.D00904.L00012  /  Seleção: 0\n",
      "E:/data/DADOS_ABERTOS/receita/K3241.K03200DV.D00904.L00013  /  Seleção: 4928\n",
      "E:/data/DADOS_ABERTOS/receita/K3241.K03200DV.D00904.L00014  /  Seleção: 9689\n",
      "E:/data/DADOS_ABERTOS/receita/K3241.K03200DV.D00904.L00015  /  Seleção: 14986\n",
      "E:/data/DADOS_ABERTOS/receita/K3241.K03200DV.D00904.L00016  /  Seleção: 20318\n",
      "E:/data/DADOS_ABERTOS/receita/K3241.K03200DV.D00904.L00017  /  Seleção: 25743\n",
      "E:/data/DADOS_ABERTOS/receita/K3241.K03200DV.D00904.L00018  /  Seleção: 31634\n",
      "E:/data/DADOS_ABERTOS/receita/K3241.K03200DV.D00904.L00019  /  Seleção: 38227\n",
      "E:/data/DADOS_ABERTOS/receita/K3241.K03200DV.D00904.L00020  /  Seleção: 45099\n"
     ]
    }
   ],
   "source": [
    "from datetime import date\n",
    "\n",
    "# Abrir arquivos Texto\n",
    "tamanho = len(filenames)\n",
    "conta = 0\n",
    "selecao = 0\n",
    "\n",
    "while(conta < tamanho):\n",
    "\n",
    "    arquivo = open(filenames[conta], 'r')\n",
    "    print(arquivo.name + '  /  '+  \"Seleção: \" + str(selecao))\n",
    "\n",
    "    for linha in arquivo:\n",
    "        \n",
    "        entrada = linha[0:2]\n",
    "        \n",
    "        lnh = linha[-600:]\n",
    "        quintaparte =  lnh[0:173]\n",
    "        codigo_municipio = quintaparte[83:87]\n",
    "        \n",
    "        if entrada == '1F' and codigo_municipio == '6213':\n",
    "\n",
    "            selecao += 1\n",
    "\n",
    "            primeiraparte = linha[0:150]\n",
    "        \n",
    "            lnh = linha[-1050:]\n",
    "            segundaparte =  lnh[0:150]\n",
    "        \n",
    "            lnh = linha[-900:]\n",
    "            terceiraparte = lnh[0:150]\n",
    "        \n",
    "            lnh = linha[-750:]\n",
    "            quartaparte =  lnh[0:150]\n",
    "        \n",
    "            lnh = linha[-600:]\n",
    "            quintaparte =  lnh[0:173]\n",
    "        \n",
    "            lnh = linha[-450:]\n",
    "            sextaparte =  lnh[22:175]\n",
    "        \n",
    "            lnh = linha[-300:]\n",
    "            setimaparte =  lnh[0:150]\n",
    "        \n",
    "            cnpj = primeiraparte[3:18]\n",
    "            razao_Social = primeiraparte[18:155]\n",
    "            fantasia = segundaparte[17:72]\n",
    "            situacao_Cadastral = segundaparte[72:74]\n",
    "            data_Situacao = segundaparte[74:82]\n",
    "#--------->                                   \n",
    "            motivo_Situacao = segundaparte[82:86]\n",
    "            CNAE = terceiraparte[74:81]\n",
    "            data_inicio = terceiraparte[66:74]\n",
    "#--------->            \n",
    "            natureza_juridica = int(terceiraparte[62:66])\n",
    "            logadouro = (terceiraparte[81:150] + ',' + quartaparte[11:14])\n",
    "            codigo_municipio = quintaparte[83:87]\n",
    "            bairro = quintaparte[23:73]\n",
    "            CEP = quintaparte[73:81]\n",
    "            UF = quintaparte[81:83]\n",
    "            municipio = quintaparte[87:137]\n",
    "            telefone1 = quintaparte[137:149]\n",
    "            telefone2 = quintaparte[149:161]\n",
    "            telefone3 = quintaparte[161:173]\n",
    "            email = sextaparte[1:116]\n",
    "            responsavel = sextaparte[116:118]\n",
    "            capital_social = float(sextaparte[118:132])\n",
    "            porte_emp = sextaparte[132:134]\n",
    "            opcao_Simples = sextaparte[134:135]\n",
    "#--------->\n",
    "            data_opcao_Simples = sextaparte[135:143]\n",
    "#--------->            \n",
    "            data_exclusao = sextaparte[143:151]\n",
    "            excAno = data_exclusao[0:4]\n",
    "            excMes = data_exclusao[4:6]\n",
    "            excDia = data_exclusao[6:8]\n",
    "            dataexclusao = (excAno+'-'+excMes+'-'+excDia)\n",
    "            if excAno != '0000' and excMes != '00' and excDia != '00':\n",
    "                dataexclusao = date.fromisoformat((excAno+'-'+excMes+'-'+excDia))\n",
    "            else:\n",
    "                excAno = '0000'\n",
    "                excMes = '00'\n",
    "                excDia = '00'\n",
    "           \n",
    "            opcao_MEI = sextaparte[151:152]\n",
    "#---------> inserindo dados na tabela\n",
    "            mycursor.execute (\"INSERT INTO tb_barueri (cnpj, razao_social, fantasia, situacao_cadastral, data_situacao, motivo_situacao, natureza_juridica, data_inicio_atividade, cnea_fiscal, logradouro, bairro, cep, uf, codigo_municipio, municipio, telefone1, telefone2, telefone3, email, qualif_responsavel, capital_social, porte_empresa, opcao_simples, data_opcao_simples, data_exclusao_simples, opcao_mei) VALUES (%s, %s, %s,%s, %s, %s,%s, %s, %s,%s, %s, %s,%s, %s, %s, %s, %s,%s, %s, %s,%s, %s, %s,%s, %s, %s);\", (cnpj, razao_Social, fantasia, situacao_Cadastral, data_Situacao, motivo_Situacao, natureza_juridica, data_inicio , CNAE, logadouro, bairro, CEP, UF, codigo_municipio, municipio, telefone1, telefone2, telefone3, email, responsavel, capital_social, porte_emp, opcao_Simples, data_opcao_Simples, dataexclusao, opcao_MEI))\n",
    "\n",
    "# --------> Fazer a confirmação da inserção\n",
    "            mydb.commit()\n",
    "        \n",
    "    conta += 1\n",
    "    arquivo.close()\n",
    "        "
   ]
  },
  {
   "cell_type": "code",
   "execution_count": 9,
   "metadata": {},
   "outputs": [],
   "source": [
    "#mycursor.execute (\"DELETE  FROM db_receita.tb_barueri\")\n",
    "#mydb.commit()"
   ]
  }
 ],
 "metadata": {
  "kernelspec": {
   "display_name": "Python 3",
   "language": "python",
   "name": "python3"
  },
  "language_info": {
   "codemirror_mode": {
    "name": "ipython",
    "version": 3
   },
   "file_extension": ".py",
   "mimetype": "text/x-python",
   "name": "python",
   "nbconvert_exporter": "python",
   "pygments_lexer": "ipython3",
   "version": "3.8.5"
  }
 },
 "nbformat": 4,
 "nbformat_minor": 4
}
